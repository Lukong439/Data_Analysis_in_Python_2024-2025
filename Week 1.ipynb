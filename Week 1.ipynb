import random
import math

def monte_carlo(iterations,step):
    S=0
    for i in range(1,iterations):
        x,y=random.random(),random.random()
        if x**2+y**2<=1:
            S=S+1
        if i% step==0:
            print(f"{i}: Tha calculated value is {(S/i)*4}")
    print(f"The calculated final value is: {(S/i)*4}")
a=int(input("Enter the total number of iterations:"))
b=int(input("Enter the display step: "))
monte_carlo(a,b)
