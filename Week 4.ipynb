{
 "cells": [
  {
   "cell_type": "code",
   "execution_count": 159,
   "metadata": {},
   "outputs": [
    {
     "name": "stdout",
     "output_type": "stream",
     "text": [
      "{}\n"
     ]
    }
   ],
   "source": [
    "phone=pusta()\n",
    "print(phone)\n",
    "zbior=set()"
   ]
  },
  {
   "cell_type": "code",
   "execution_count": 3,
   "metadata": {},
   "outputs": [],
   "source": [
    "def pusta():\n",
    "    return dict()"
   ]
  },
  {
   "cell_type": "code",
   "execution_count": 139,
   "metadata": {},
   "outputs": [],
   "source": [
    "def dodaj(numer,nazwa,zbior,ksiazka):\n",
    "    for x in numer:\n",
    "        if x in zbior:\n",
    "            print(f\"Numer {x} jest już zajęty\")\n",
    "    ksiazka[nazwa]=numer\n",
    "    zbior.update(numer)"
   ]
  },
  {
   "cell_type": "code",
   "execution_count": 20,
   "metadata": {},
   "outputs": [],
   "source": [
    "def znajdz(nazwa,ksiazka):\n",
    "    if nazwa in ksiazka:\n",
    "        return ksiazka[nazwa]\n",
    "    else:\n",
    "        print(\"Osoby nie ma w książce\")"
   ]
  },
  {
   "cell_type": "code",
   "execution_count": 155,
   "metadata": {},
   "outputs": [],
   "source": [
    "def usun(nazwa, ksiazka, zbior):\n",
    "    if nazwa in ksiazka:\n",
    "        zbior=zbior.difference(ksiazka[nazwa])#z jakiegoś powodu ta funkcja działała jedynie lokalnnie stąd dziwnny zapis\n",
    "        ksiazka.pop(nazwa)\n",
    "    else:\n",
    "        print(\"Tej osoby nie ma w książce\")\n",
    "    return zbior"
   ]
  },
  {
   "cell_type": "code",
   "execution_count": 162,
   "metadata": {},
   "outputs": [
    {
     "name": "stdout",
     "output_type": "stream",
     "text": [
      "Numer 233224 jest już zajęty\n",
      "Numer 118339939 jest już zajęty\n",
      "Numer 44334 jest już zajęty\n"
     ]
    }
   ],
   "source": [
    "dodaj({1189939},\"P G\",zbior,phone)\n",
    "dodaj({118339939, 233224,44334},\"P12323 G\",zbior,phone)"
   ]
  },
  {
   "cell_type": "code",
   "execution_count": 163,
   "metadata": {},
   "outputs": [
    {
     "name": "stdout",
     "output_type": "stream",
     "text": [
      "{'P12323 G': {233224, 118339939, 44334}, 'P G': {1189939}}\n",
      "{1189939}\n",
      "{233224, 118339939, 44334}\n"
     ]
    }
   ],
   "source": [
    "print(phone)\n",
    "print(znajdz(\"P G\",phone))\n",
    "zbior=usun(\"P G\",phone,zbior)\n",
    "print(zbior)"
   ]
  }
 ],
 "metadata": {
  "kernelspec": {
   "display_name": "Python 3",
   "language": "python",
   "name": "python3"
  },
  "language_info": {
   "codemirror_mode": {
    "name": "ipython",
    "version": 3
   },
   "file_extension": ".py",
   "mimetype": "text/x-python",
   "name": "python",
   "nbconvert_exporter": "python",
   "pygments_lexer": "ipython3",
   "version": "3.11.9"
  }
 },
 "nbformat": 4,
 "nbformat_minor": 2
}
