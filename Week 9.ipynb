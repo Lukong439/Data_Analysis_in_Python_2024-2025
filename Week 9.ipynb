{
 "cells": [
  {
   "cell_type": "code",
   "execution_count": 5,
   "id": "9acda3df",
   "metadata": {},
   "outputs": [
    {
     "name": "stdout",
     "output_type": "stream",
     "text": [
      "['inputs', 'outputs']\n"
     ]
    }
   ],
   "source": [
    "import numpy as np\n",
    "\n",
    "data=np.load('sample_treated.npz')\n",
    "\n",
    "print(data.files)"
   ]
  },
  {
   "cell_type": "code",
   "execution_count": 6,
   "id": "a31980ac",
   "metadata": {},
   "outputs": [],
   "source": [
    "outputs = data['outputs']\n",
    "initial_sizes = outputs[:, 0]\n",
    "max_sizes = outputs.max(axis=1)"
   ]
  },
  {
   "cell_type": "code",
   "execution_count": 7,
   "id": "9eaa654f",
   "metadata": {},
   "outputs": [
    {
     "name": "stdout",
     "output_type": "stream",
     "text": [
      "Indices of structures that doubled in size: [  2   6   8  11  15  16  17  20  21  26  30  33  34  36  39  44  47  53\n",
      "  55  57  59  60  63  66  67  70  71  74  77  81  82  83  87  89  90  91\n",
      "  92  96 101 106 113 119 123 124 126 130 135 137 139 142 143 144 147 148\n",
      " 156 159 160 165 167 173 175 177 190 192 195 199 203 209 211 215 216 224\n",
      " 226 227 231 234 236 237 239 247 249 251 252 253 254 255 260 262 263 269\n",
      " 276 277 279 287 290 291 296 304 311 313 314 318 326 327 330 331 332 333\n",
      " 334 335 336 356 357 358 359 364 366 368 369 371 376 378 382 385 388 392\n",
      " 395 398 405 407 408 421 423 425 427 432 437 447 449 456 457 462 465 467\n",
      " 470 471 480 483 485 493 499 501 503 510 511 512 513 516 518 520 524 527\n",
      " 532 536 541 544 548 549 550 569 574 575 579 581 585 594 598 599 604 608\n",
      " 609 612 616 617 618 635 636 640 641 648 649 651 652 653 658 665 667 668\n",
      " 669 671 678 681 684 685 687 688 693 698 699 700 706 708 716 719 728 734\n",
      " 735 739 741 743 744 745 746 754 756 758 759 761 766 768 771 772 774 778\n",
      " 783 788 789 790 791 795 796 800 802 804 811 812 814 815 820 824 827 829\n",
      " 834 835 836 837 840 846 847 848 849 861 863 864 865 867 869 870 871 879\n",
      " 885 891 893 894 895 896 899 902 907 919 924 931 932 937 940 942 952 961\n",
      " 965 971 972 973 974 979 984 985 986 987 990 992 998]\n",
      "Total number of structures that doubled: 301\n"
     ]
    }
   ],
   "source": [
    "doubled_mask = max_sizes >= 2 * initial_sizes\n",
    "doubled_indices = np.where(doubled_mask)[0]\n",
    "print(f\"Indices of structures that doubled in size: {doubled_indices}\")\n",
    "print(f\"Total number of structures that doubled: {len(doubled_indices)}\")"
   ]
  }
 ],
 "metadata": {
  "kernelspec": {
   "display_name": "Python 3",
   "language": "python",
   "name": "python3"
  },
  "language_info": {
   "codemirror_mode": {
    "name": "ipython",
    "version": 3
   },
   "file_extension": ".py",
   "mimetype": "text/x-python",
   "name": "python",
   "nbconvert_exporter": "python",
   "pygments_lexer": "ipython3",
   "version": "3.11.9"
  }
 },
 "nbformat": 4,
 "nbformat_minor": 5
}
